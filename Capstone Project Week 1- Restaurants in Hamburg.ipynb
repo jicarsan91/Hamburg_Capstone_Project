{
 "cells": [
  {
   "cell_type": "markdown",
   "metadata": {},
   "source": [
    "# 1- Introduction\n",
    "Hamburg (Germany) is an international city and attracts a large number of people visiting the city, not only for tourism. Hamburg has almost 2 million inhabitants and receives per year 7.2 million visitors (numbers of 2018, before covid 19). \n",
    "\n",
    "For visitors, finding a place to eat could be a challenge. The goal of this project is to give visitors a guide where to find the best restaurants, which kind of food they can find, where to eat some kind of food and it can be also used for opening a new restaurant in the city, finding gaps of type of food in areas with good rate.\n"
   ]
  },
  {
   "cell_type": "markdown",
   "metadata": {},
   "source": [
    "# 2- Data\n",
    "\n",
    "- Districts and Population from Hamburg (from different years, I will use the most recent data from there) : https://www.citypopulation.de/en/germany/hamburg/admin/\n",
    "- Latitude and Longitude values from Hamburg are obtained from wikipedia: https://de.wikipedia.org/wiki/Liste_der_Bezirke_und_Stadtteile_Hamburgs(Since there are different tables, and I had troubles to get the desired data, I created a csv file with the coordinates)\n",
    "- Restaurants obtained from Foursquare\n",
    "\n"
   ]
  },
  {
   "cell_type": "markdown",
   "metadata": {},
   "source": [
    "# 3- Methodology\n",
    "\n",
    "In order to conduct a meainngful reasearch, I will use the techniques learned during this Coursera online course:\n",
    "- Collect  data from the resources above\n",
    "- Foursquare APIs (week 2) for restaurants, ratings and neighborhood location\n",
    "- Segmenting and CLustering Neighborhoods in Hamburg (Week 3)\n",
    "- Map representation with folium\n",
    "- Pandas, Numpy for handling data; \n"
   ]
  },
  {
   "cell_type": "code",
   "execution_count": null,
   "metadata": {},
   "outputs": [],
   "source": []
  }
 ],
 "metadata": {
  "kernelspec": {
   "display_name": "Python 3",
   "language": "python",
   "name": "python3"
  },
  "language_info": {
   "codemirror_mode": {
    "name": "ipython",
    "version": 3
   },
   "file_extension": ".py",
   "mimetype": "text/x-python",
   "name": "python",
   "nbconvert_exporter": "python",
   "pygments_lexer": "ipython3",
   "version": "3.7.6"
  }
 },
 "nbformat": 4,
 "nbformat_minor": 4
}
